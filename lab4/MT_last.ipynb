{
 "cells": [
  {
   "cell_type": "code",
   "execution_count": 25,
   "id": "022a2b1d",
   "metadata": {
    "executionInfo": {
     "elapsed": 332,
     "status": "ok",
     "timestamp": 1703361937543,
     "user": {
      "displayName": "Andrii Kolesnyk",
      "userId": "06273475535682682795"
     },
     "user_tz": -120
    },
    "id": "022a2b1d"
   },
   "outputs": [],
   "source": [
    "with open('ukr.txt',encoding=\"utf8\") as f:\n",
    "    lines = f.read().split(\"\\n\")[:-1]\n",
    "\n",
    "# text_pairs = []\n",
    "ua_sentences = []\n",
    "eng_sentences = []\n",
    "\n",
    "for line in lines:\n",
    "    eng, ua, _ = line.split(\"\\t\")\n",
    "#     ua = \"[start] \" + ua + \" [end]\"\n",
    "    ua_sentences.append(ua)\n",
    "    eng_sentences.append(eng)\n",
    "#     text_pairs.append((eng, ua))"
   ]
  },
  {
   "cell_type": "code",
   "execution_count": 26,
   "id": "24cd80e3",
   "metadata": {
    "colab": {
     "base_uri": "https://localhost:8080/",
     "height": 36
    },
    "executionInfo": {
     "elapsed": 7,
     "status": "ok",
     "timestamp": 1703361937812,
     "user": {
      "displayName": "Andrii Kolesnyk",
      "userId": "06273475535682682795"
     },
     "user_tz": -120
    },
    "id": "24cd80e3",
    "outputId": "aac7cedb-cd29-4e5b-e5e0-01f694265c5d"
   },
   "outputs": [
    {
     "data": {
      "application/vnd.google.colaboratory.intrinsic+json": {
       "type": "string"
      },
      "text/plain": [
       "'2.15.0'"
      ]
     },
     "execution_count": 26,
     "metadata": {},
     "output_type": "execute_result"
    }
   ],
   "source": [
    "import keras\n",
    "keras.__version__"
   ]
  },
  {
   "cell_type": "code",
   "execution_count": 27,
   "id": "813ace5d",
   "metadata": {
    "executionInfo": {
     "elapsed": 2,
     "status": "ok",
     "timestamp": 1703361938090,
     "user": {
      "displayName": "Andrii Kolesnyk",
      "userId": "06273475535682682795"
     },
     "user_tz": -120
    },
    "id": "813ace5d"
   },
   "outputs": [],
   "source": [
    "import numpy as np\n",
    "from keras.preprocessing.text import Tokenizer\n",
    "from keras.preprocessing.sequence import pad_sequences\n",
    "from keras.models import Model, Sequential\n",
    "from keras.layers import GRU, Input, Dense, TimeDistributed, Activation, Dropout, LSTM, Embedding\n",
    "from keras.optimizers import Adam\n",
    "from keras.losses import sparse_categorical_crossentropy"
   ]
  },
  {
   "cell_type": "code",
   "execution_count": 28,
   "id": "3e5ee3da",
   "metadata": {
    "colab": {
     "base_uri": "https://localhost:8080/"
    },
    "executionInfo": {
     "elapsed": 2,
     "status": "ok",
     "timestamp": 1703361938322,
     "user": {
      "displayName": "Andrii Kolesnyk",
      "userId": "06273475535682682795"
     },
     "user_tz": -120
    },
    "id": "3e5ee3da",
    "outputId": "0f3ff901-f602-4e81-fef4-7628fce352d6",
    "scrolled": true
   },
   "outputs": [
    {
     "name": "stdout",
     "output_type": "stream",
     "text": [
      "English sample 1:  Go.\n",
      "Ukrainian sample 1:  Йди.\n",
      "\n",
      "English sample 2:  Hi.\n",
      "Ukrainian sample 2:  Вітаю!\n",
      "\n",
      "English sample 3:  Hi.\n",
      "Ukrainian sample 3:  Привіт.\n",
      "\n",
      "English sample 4:  Hi.\n",
      "Ukrainian sample 4:  Привіт!\n",
      "\n",
      "English sample 5:  Run!\n",
      "Ukrainian sample 5:  Біжіть!\n",
      "\n"
     ]
    }
   ],
   "source": [
    "for sample_i in range(5):\n",
    "    print('English sample {}:  {}'.format(sample_i + 1, eng_sentences[sample_i]))\n",
    "    print('Ukrainian sample {}:  {}\\n'.format(sample_i + 1, ua_sentences[sample_i]))"
   ]
  },
  {
   "cell_type": "code",
   "execution_count": 29,
   "id": "d314c5f4",
   "metadata": {
    "colab": {
     "base_uri": "https://localhost:8080/"
    },
    "executionInfo": {
     "elapsed": 7188,
     "status": "ok",
     "timestamp": 1703361946660,
     "user": {
      "displayName": "Andrii Kolesnyk",
      "userId": "06273475535682682795"
     },
     "user_tz": -120
    },
    "id": "d314c5f4",
    "outputId": "1caeec4a-9e8f-400e-efc0-c246958d5f23"
   },
   "outputs": [
    {
     "name": "stdout",
     "output_type": "stream",
     "text": [
      "(158705, 41)\n",
      "(158705, 41)\n"
     ]
    }
   ],
   "source": [
    "Ua_tokenizer = Tokenizer()\n",
    "Ua_tokenizer.fit_on_texts(ua_sentences)\n",
    "ua_seq=Ua_tokenizer.texts_to_sequences(ua_sentences)\n",
    "ua_vocab_size = len(Ua_tokenizer.word_index)\n",
    "\n",
    "Eng_tokenizer = Tokenizer()\n",
    "Eng_tokenizer.fit_on_texts(eng_sentences)\n",
    "eng_seq=Eng_tokenizer.texts_to_sequences(eng_sentences)\n",
    "eng_vocab_size = len(Eng_tokenizer.word_index)\n",
    "\n",
    "ua_seq = pad_sequences(ua_seq, padding='post',maxlen=41)\n",
    "eng_seq = pad_sequences(eng_seq, padding='post',maxlen=41 )\n",
    "\n",
    "print(eng_seq.shape)\n",
    "print(ua_seq.shape)"
   ]
  },
  {
   "cell_type": "code",
   "execution_count": 30,
   "id": "2db06eef",
   "metadata": {
    "colab": {
     "base_uri": "https://localhost:8080/"
    },
    "executionInfo": {
     "elapsed": 14,
     "status": "ok",
     "timestamp": 1703361946660,
     "user": {
      "displayName": "Andrii Kolesnyk",
      "userId": "06273475535682682795"
     },
     "user_tz": -120
    },
    "id": "2db06eef",
    "outputId": "652d7f92-93ec-4c4b-bdc0-99235ad8243f"
   },
   "outputs": [
    {
     "data": {
      "text/plain": [
       "array([[  511,     0,     0, ...,     0,     0,     0],\n",
       "       [ 3303,     0,     0, ...,     0,     0,     0],\n",
       "       [ 1075,     0,     0, ...,     0,     0,     0],\n",
       "       ...,\n",
       "       [  124, 10622,  7912, ...,     0,     0,     0],\n",
       "       [ 2636, 17899,     4, ...,     0,     0,     0],\n",
       "       [    1,   515,     4, ...,     0,     0,     0]], dtype=int32)"
      ]
     },
     "execution_count": 30,
     "metadata": {},
     "output_type": "execute_result"
    }
   ],
   "source": [
    "ua_seq"
   ]
  },
  {
   "cell_type": "code",
   "execution_count": 31,
   "id": "338b2101",
   "metadata": {
    "colab": {
     "base_uri": "https://localhost:8080/"
    },
    "executionInfo": {
     "elapsed": 13,
     "status": "ok",
     "timestamp": 1703361946660,
     "user": {
      "displayName": "Andrii Kolesnyk",
      "userId": "06273475535682682795"
     },
     "user_tz": -120
    },
    "id": "338b2101",
    "outputId": "6f1475df-c3f7-445e-a15f-ee6f9af11456"
   },
   "outputs": [
    {
     "data": {
      "text/plain": [
       "array([[  41,    0,    0, ...,    0,    0,    0],\n",
       "       [1331,    0,    0, ...,    0,    0,    0],\n",
       "       [1331,    0,    0, ...,    0,    0,    0],\n",
       "       ...,\n",
       "       [  87, 5270, 2316, ...,    0,    0,    0],\n",
       "       [   5, 6159, 1714, ...,    0,    0,    0],\n",
       "       [  59,  235,    8, ...,  438, 1078,   14]], dtype=int32)"
      ]
     },
     "execution_count": 31,
     "metadata": {},
     "output_type": "execute_result"
    }
   ],
   "source": [
    "eng_seq"
   ]
  },
  {
   "cell_type": "code",
   "execution_count": 32,
   "id": "6d3c2d6d",
   "metadata": {
    "colab": {
     "base_uri": "https://localhost:8080/"
    },
    "executionInfo": {
     "elapsed": 12,
     "status": "ok",
     "timestamp": 1703361946660,
     "user": {
      "displayName": "Andrii Kolesnyk",
      "userId": "06273475535682682795"
     },
     "user_tz": -120
    },
    "id": "6d3c2d6d",
    "outputId": "463c7eb7-73af-4b84-c7d6-b4c9e9b9b295",
    "scrolled": true
   },
   "outputs": [
    {
     "data": {
      "text/plain": [
       "158705"
      ]
     },
     "execution_count": 32,
     "metadata": {},
     "output_type": "execute_result"
    }
   ],
   "source": [
    "eng_seq.shape[-2]"
   ]
  },
  {
   "cell_type": "code",
   "execution_count": 33,
   "id": "7d26bd43",
   "metadata": {
    "colab": {
     "base_uri": "https://localhost:8080/"
    },
    "executionInfo": {
     "elapsed": 11,
     "status": "ok",
     "timestamp": 1703361946660,
     "user": {
      "displayName": "Andrii Kolesnyk",
      "userId": "06273475535682682795"
     },
     "user_tz": -120
    },
    "id": "7d26bd43",
    "outputId": "286e257d-40b7-4a8c-c656-6e56d278230a"
   },
   "outputs": [
    {
     "data": {
      "text/plain": [
       "158705"
      ]
     },
     "execution_count": 33,
     "metadata": {},
     "output_type": "execute_result"
    }
   ],
   "source": [
    "ua_seq.shape[-2]"
   ]
  },
  {
   "cell_type": "code",
   "execution_count": 104,
   "id": "8ba60d50",
   "metadata": {
    "executionInfo": {
     "elapsed": 221,
     "status": "ok",
     "timestamp": 1703367543479,
     "user": {
      "displayName": "Andrii Kolesnyk",
      "userId": "06273475535682682795"
     },
     "user_tz": -120
    },
    "id": "8ba60d50"
   },
   "outputs": [],
   "source": [
    "def logits_to_text(logits, tokenizer):\n",
    "\n",
    "    index_to_words = {id: word for word, id in tokenizer.word_index.items()}\n",
    "    index_to_words[0] = '<PAD>'\n",
    "    x=' '.join([index_to_words[prediction] for prediction in np.argmax(logits, 1)])\n",
    "    return x\n",
    "    # return ''.join(word for word in x.split() if word != '<PAD>')"
   ]
  },
  {
   "cell_type": "code",
   "execution_count": 17,
   "id": "3003ab2c",
   "metadata": {
    "colab": {
     "base_uri": "https://localhost:8080/"
    },
    "executionInfo": {
     "elapsed": 1987,
     "status": "ok",
     "timestamp": 1703350630013,
     "user": {
      "displayName": "Andrii Kolesnyk",
      "userId": "06273475535682682795"
     },
     "user_tz": -120
    },
    "id": "3003ab2c",
    "outputId": "73bf3c4e-ce16-4e91-d68e-93b630f62cf1"
   },
   "outputs": [
    {
     "name": "stdout",
     "output_type": "stream",
     "text": [
      "Model: \"sequential\"\n",
      "_________________________________________________________________\n",
      " Layer (type)                Output Shape              Param #   \n",
      "=================================================================\n",
      " embedding (Embedding)       (None, 41, 256)           2706688   \n",
      "                                                                 \n",
      " gru (GRU)                   (None, 41, 256)           394752    \n",
      "                                                                 \n",
      " time_distributed (TimeDist  (None, 41, 1024)          263168    \n",
      " ributed)                                                        \n",
      "                                                                 \n",
      " dense_1 (Dense)             (None, 41, 1024)          1049600   \n",
      "                                                                 \n",
      " dropout (Dropout)           (None, 41, 1024)          0         \n",
      "                                                                 \n",
      " dense_2 (Dense)             (None, 41, 31345)         32128625  \n",
      "                                                                 \n",
      "=================================================================\n",
      "Total params: 36542833 (139.40 MB)\n",
      "Trainable params: 36542833 (139.40 MB)\n",
      "Non-trainable params: 0 (0.00 Byte)\n",
      "_________________________________________________________________\n"
     ]
    }
   ],
   "source": [
    "model = Sequential()\n",
    "model.add(Embedding(eng_vocab_size, 256,  input_shape=eng_seq.shape[1:]))\n",
    "model.add(GRU(256, return_sequences=True))\n",
    "model.add(TimeDistributed(Dense(1024, activation='relu')))\n",
    "model.add(Dense(1024, activation='relu'))\n",
    "model.add(Dropout(0.5))\n",
    "model.add(Dense(ua_vocab_size, activation='softmax'))\n",
    "\n",
    "model.compile(loss=sparse_categorical_crossentropy,\n",
    "                  optimizer=Adam(0.005),\n",
    "                  metrics=['accuracy'])\n",
    "\n",
    "model.summary()"
   ]
  },
  {
   "cell_type": "code",
   "execution_count": 20,
   "id": "09af66f7",
   "metadata": {
    "colab": {
     "base_uri": "https://localhost:8080/"
    },
    "executionInfo": {
     "elapsed": 10224932,
     "status": "ok",
     "timestamp": 1703360908628,
     "user": {
      "displayName": "Andrii Kolesnyk",
      "userId": "06273475535682682795"
     },
     "user_tz": -120
    },
    "id": "09af66f7",
    "outputId": "cf4a8efd-1fa0-47dc-ff39-bd45cf211d0a"
   },
   "outputs": [
    {
     "name": "stdout",
     "output_type": "stream",
     "text": [
      "Epoch 1/20\n",
      "1984/1984 [==============================] - 495s 249ms/step - loss: 0.6177 - accuracy: 0.9195 - val_loss: nan - val_accuracy: 0.8618\n",
      "Epoch 2/20\n",
      "1984/1984 [==============================] - 530s 267ms/step - loss: 0.5283 - accuracy: 0.9250 - val_loss: nan - val_accuracy: 0.8633\n",
      "Epoch 3/20\n",
      "1984/1984 [==============================] - 533s 269ms/step - loss: 0.4854 - accuracy: 0.9266 - val_loss: nan - val_accuracy: 0.8652\n",
      "Epoch 4/20\n",
      "1984/1984 [==============================] - 500s 252ms/step - loss: 0.4565 - accuracy: 0.9276 - val_loss: nan - val_accuracy: 0.8660\n",
      "Epoch 5/20\n",
      "1984/1984 [==============================] - 527s 266ms/step - loss: 0.4354 - accuracy: 0.9283 - val_loss: nan - val_accuracy: 0.8676\n",
      "Epoch 6/20\n",
      "1984/1984 [==============================] - 523s 264ms/step - loss: 0.4207 - accuracy: 0.9288 - val_loss: nan - val_accuracy: 0.8668\n",
      "Epoch 7/20\n",
      "1984/1984 [==============================] - 521s 262ms/step - loss: 0.4097 - accuracy: 0.9291 - val_loss: nan - val_accuracy: 0.8672\n",
      "Epoch 8/20\n",
      "1984/1984 [==============================] - 520s 262ms/step - loss: 0.4006 - accuracy: 0.9295 - val_loss: nan - val_accuracy: 0.8674\n",
      "Epoch 9/20\n",
      "1984/1984 [==============================] - 514s 259ms/step - loss: 0.3947 - accuracy: 0.9296 - val_loss: nan - val_accuracy: 0.8674\n",
      "Epoch 10/20\n",
      "1984/1984 [==============================] - 480s 242ms/step - loss: 0.3896 - accuracy: 0.9298 - val_loss: nan - val_accuracy: 0.8677\n",
      "Epoch 11/20\n",
      "1984/1984 [==============================] - 485s 244ms/step - loss: 0.3856 - accuracy: 0.9300 - val_loss: nan - val_accuracy: 0.8679\n",
      "Epoch 12/20\n",
      "1984/1984 [==============================] - 510s 257ms/step - loss: 0.3831 - accuracy: 0.9301 - val_loss: nan - val_accuracy: 0.8676\n",
      "Epoch 13/20\n",
      "1984/1984 [==============================] - 517s 260ms/step - loss: 0.3800 - accuracy: 0.9302 - val_loss: nan - val_accuracy: 0.8670\n",
      "Epoch 14/20\n",
      "1984/1984 [==============================] - 511s 258ms/step - loss: 0.3774 - accuracy: 0.9303 - val_loss: nan - val_accuracy: 0.8680\n",
      "Epoch 15/20\n",
      "1984/1984 [==============================] - 508s 256ms/step - loss: 0.3763 - accuracy: 0.9302 - val_loss: nan - val_accuracy: 0.8678\n",
      "Epoch 16/20\n",
      "1984/1984 [==============================] - 507s 256ms/step - loss: 0.3751 - accuracy: 0.9303 - val_loss: nan - val_accuracy: 0.8674\n",
      "Epoch 17/20\n",
      "1984/1984 [==============================] - 508s 256ms/step - loss: 0.3732 - accuracy: 0.9304 - val_loss: nan - val_accuracy: 0.8677\n",
      "Epoch 18/20\n",
      "1984/1984 [==============================] - 510s 257ms/step - loss: 0.3732 - accuracy: 0.9303 - val_loss: nan - val_accuracy: 0.8677\n",
      "Epoch 19/20\n",
      "1984/1984 [==============================] - 509s 256ms/step - loss: 0.3716 - accuracy: 0.9304 - val_loss: nan - val_accuracy: 0.8671\n",
      "Epoch 20/20\n",
      "1984/1984 [==============================] - 517s 261ms/step - loss: 0.4363 - accuracy: 0.9269 - val_loss: nan - val_accuracy: 0.8641\n"
     ]
    },
    {
     "data": {
      "text/plain": [
       "<keras.src.callbacks.History at 0x7cce929ba0e0>"
      ]
     },
     "execution_count": 20,
     "metadata": {},
     "output_type": "execute_result"
    }
   ],
   "source": [
    "model.fit(eng_seq, ua_seq, batch_size=64, epochs=20, validation_split=0.2)"
   ]
  },
  {
   "cell_type": "code",
   "execution_count": 107,
   "id": "a97Xr_m7Xooz",
   "metadata": {
    "colab": {
     "base_uri": "https://localhost:8080/"
    },
    "executionInfo": {
     "elapsed": 417,
     "status": "ok",
     "timestamp": 1703367719813,
     "user": {
      "displayName": "Andrii Kolesnyk",
      "userId": "06273475535682682795"
     },
     "user_tz": -120
    },
    "id": "a97Xr_m7Xooz",
    "outputId": "08355312-f443-4105-dca6-6467e032f4cf",
    "scrolled": false
   },
   "outputs": [
    {
     "name": "stdout",
     "output_type": "stream",
     "text": [
      "1/1 [==============================] - 0s 21ms/step\n",
      "\n",
      "Original text:\n",
      "I feed my dog twice a day.\n",
      "\n",
      "Prediction:\n",
      "я запалив руки <PAD> <PAD> <PAD> <PAD> <PAD> <PAD> <PAD> <PAD> <PAD> <PAD> <PAD> <PAD> <PAD> <PAD> <PAD> <PAD> <PAD> <PAD> <PAD> <PAD> <PAD> <PAD> <PAD> <PAD> <PAD> <PAD> <PAD> <PAD> <PAD> <PAD> <PAD> <PAD> <PAD> <PAD> <PAD> <PAD> <PAD> <PAD>\n",
      "\n",
      "Correct Translation:\n",
      "Я годую свого собаку двічі на день.\n",
      "\n",
      "Original text:\n",
      "Where's the station?\n",
      "\n",
      "Prediction:\n",
      "де знаходиться <PAD> <PAD> <PAD> <PAD> <PAD> <PAD> <PAD> <PAD> <PAD> <PAD> <PAD> <PAD> <PAD> <PAD> <PAD> <PAD> <PAD> <PAD> <PAD> <PAD> <PAD> <PAD> <PAD> <PAD> <PAD> <PAD> <PAD> <PAD> <PAD> <PAD> <PAD> <PAD> <PAD> <PAD> <PAD> <PAD> <PAD> <PAD> <PAD>\n",
      "\n",
      "Correct Translation:\n",
      "Де знаходиться вокзал?\n",
      "\n",
      "Original text:\n",
      "Tom might be frustrated.\n",
      "\n",
      "Prediction:\n",
      "том може бути <PAD> <PAD> <PAD> <PAD> <PAD> <PAD> <PAD> <PAD> <PAD> <PAD> <PAD> <PAD> <PAD> <PAD> <PAD> <PAD> <PAD> <PAD> <PAD> <PAD> <PAD> <PAD> <PAD> <PAD> <PAD> <PAD> <PAD> <PAD> <PAD> <PAD> <PAD> <PAD> <PAD> <PAD> <PAD> <PAD> <PAD> <PAD>\n",
      "\n",
      "Correct Translation:\n",
      "Можливо, Том знервований.\n",
      "\n",
      "Original text:\n",
      "Tom is just an average teenage boy.\n",
      "\n",
      "Prediction:\n",
      "том — <PAD> <PAD> <PAD> <PAD> <PAD> <PAD> <PAD> <PAD> <PAD> <PAD> <PAD> <PAD> <PAD> <PAD> <PAD> <PAD> <PAD> <PAD> <PAD> <PAD> <PAD> <PAD> <PAD> <PAD> <PAD> <PAD> <PAD> <PAD> <PAD> <PAD> <PAD> <PAD> <PAD> <PAD> <PAD> <PAD> <PAD> <PAD> <PAD>\n",
      "\n",
      "Correct Translation:\n",
      "Том звичайний пересічний хлопчик.\n",
      "\n",
      "Original text:\n",
      "I can't imagine a day without you.\n",
      "\n",
      "Prediction:\n",
      "я не можу <PAD> <PAD> <PAD> <PAD> <PAD> <PAD> <PAD> <PAD> <PAD> <PAD> <PAD> <PAD> <PAD> <PAD> <PAD> <PAD> <PAD> <PAD> <PAD> <PAD> <PAD> <PAD> <PAD> <PAD> <PAD> <PAD> <PAD> <PAD> <PAD> <PAD> <PAD> <PAD> <PAD> <PAD> <PAD> <PAD> <PAD> <PAD>\n",
      "\n",
      "Correct Translation:\n",
      "Я не можу уявити ані дня без тебе.\n",
      "\n",
      "Original text:\n",
      "You've lost.\n",
      "\n",
      "Prediction:\n",
      "ти втратив <PAD> <PAD> <PAD> <PAD> <PAD> <PAD> <PAD> <PAD> <PAD> <PAD> <PAD> <PAD> <PAD> <PAD> <PAD> <PAD> <PAD> <PAD> <PAD> <PAD> <PAD> <PAD> <PAD> <PAD> <PAD> <PAD> <PAD> <PAD> <PAD> <PAD> <PAD> <PAD> <PAD> <PAD> <PAD> <PAD> <PAD> <PAD> <PAD>\n",
      "\n",
      "Correct Translation:\n",
      "Ви програли.\n",
      "\n",
      "Original text:\n",
      "Sales should double this year.\n",
      "\n",
      "Prediction:\n",
      "це було <PAD> <PAD> <PAD> <PAD> <PAD> <PAD> <PAD> <PAD> <PAD> <PAD> <PAD> <PAD> <PAD> <PAD> <PAD> <PAD> <PAD> <PAD> <PAD> <PAD> <PAD> <PAD> <PAD> <PAD> <PAD> <PAD> <PAD> <PAD> <PAD> <PAD> <PAD> <PAD> <PAD> <PAD> <PAD> <PAD> <PAD> <PAD> <PAD>\n",
      "\n",
      "Correct Translation:\n",
      "Цього року продажі повинні подвоїтися.\n",
      "\n",
      "Original text:\n",
      "Read it once more, please.\n",
      "\n",
      "Prediction:\n",
      "прочитайте це його більше ласка <PAD> <PAD> <PAD> <PAD> <PAD> <PAD> <PAD> <PAD> <PAD> <PAD> <PAD> <PAD> <PAD> <PAD> <PAD> <PAD> <PAD> <PAD> <PAD> <PAD> <PAD> <PAD> <PAD> <PAD> <PAD> <PAD> <PAD> <PAD> <PAD> <PAD> <PAD> <PAD> <PAD> <PAD> <PAD> <PAD>\n",
      "\n",
      "Correct Translation:\n",
      "Прочитай це, будь ласка, ще раз.\n",
      "\n",
      "Original text:\n",
      "That's a hard problem.\n",
      "\n",
      "Prediction:\n",
      "це дуже <PAD> <PAD> <PAD> <PAD> <PAD> <PAD> <PAD> <PAD> <PAD> <PAD> <PAD> <PAD> <PAD> <PAD> <PAD> <PAD> <PAD> <PAD> <PAD> <PAD> <PAD> <PAD> <PAD> <PAD> <PAD> <PAD> <PAD> <PAD> <PAD> <PAD> <PAD> <PAD> <PAD> <PAD> <PAD> <PAD> <PAD> <PAD> <PAD>\n",
      "\n",
      "Correct Translation:\n",
      "Це складна задача.\n",
      "\n",
      "Original text:\n",
      "I allowed Tom to do it.\n",
      "\n",
      "Prediction:\n",
      "я це тома тому <PAD> <PAD> <PAD> <PAD> <PAD> <PAD> <PAD> <PAD> <PAD> <PAD> <PAD> <PAD> <PAD> <PAD> <PAD> <PAD> <PAD> <PAD> <PAD> <PAD> <PAD> <PAD> <PAD> <PAD> <PAD> <PAD> <PAD> <PAD> <PAD> <PAD> <PAD> <PAD> <PAD> <PAD> <PAD> <PAD> <PAD>\n",
      "\n",
      "Correct Translation:\n",
      "Я дозволив Тому це зробити.\n",
      "\n",
      "Original text:\n",
      "Why did you arrive so early?\n",
      "\n",
      "Prediction:\n",
      "чому ти це туди учора <PAD> <PAD> <PAD> <PAD> <PAD> <PAD> <PAD> <PAD> <PAD> <PAD> <PAD> <PAD> <PAD> <PAD> <PAD> <PAD> <PAD> <PAD> <PAD> <PAD> <PAD> <PAD> <PAD> <PAD> <PAD> <PAD> <PAD> <PAD> <PAD> <PAD> <PAD> <PAD> <PAD> <PAD> <PAD> <PAD>\n",
      "\n",
      "Correct Translation:\n",
      "Чому ви прибули так рано?\n",
      "\n",
      "Original text:\n",
      "Tom asked Mary if she knew where John lived.\n",
      "\n",
      "Prediction:\n",
      "том попросив мері я він <PAD> <PAD> <PAD> <PAD> <PAD> <PAD> <PAD> <PAD> <PAD> <PAD> <PAD> <PAD> <PAD> <PAD> <PAD> <PAD> <PAD> <PAD> <PAD> <PAD> <PAD> <PAD> <PAD> <PAD> <PAD> <PAD> <PAD> <PAD> <PAD> <PAD> <PAD> <PAD> <PAD> <PAD> <PAD> <PAD>\n",
      "\n",
      "Correct Translation:\n",
      "Том запитав Мері, чи вона знає, де живе Джон.\n",
      "\n",
      "Original text:\n",
      "I nearly forgot it.\n",
      "\n",
      "Prediction:\n",
      "я майже не не <PAD> <PAD> <PAD> <PAD> <PAD> <PAD> <PAD> <PAD> <PAD> <PAD> <PAD> <PAD> <PAD> <PAD> <PAD> <PAD> <PAD> <PAD> <PAD> <PAD> <PAD> <PAD> <PAD> <PAD> <PAD> <PAD> <PAD> <PAD> <PAD> <PAD> <PAD> <PAD> <PAD> <PAD> <PAD> <PAD> <PAD>\n",
      "\n",
      "Correct Translation:\n",
      "Я мало про це не забула.\n",
      "\n",
      "Original text:\n",
      "You noticed it, too, didn't you?\n",
      "\n",
      "Prediction:\n",
      "ти помітив помітив <PAD> <PAD> <PAD> <PAD> <PAD> <PAD> <PAD> <PAD> <PAD> <PAD> <PAD> <PAD> <PAD> <PAD> <PAD> <PAD> <PAD> <PAD> <PAD> <PAD> <PAD> <PAD> <PAD> <PAD> <PAD> <PAD> <PAD> <PAD> <PAD> <PAD> <PAD> <PAD> <PAD> <PAD> <PAD> <PAD> <PAD> <PAD>\n",
      "\n",
      "Correct Translation:\n",
      "Ти на це теж звернула увагу, еге ж?\n",
      "\n",
      "Original text:\n",
      "You guys are nuts.\n",
      "\n",
      "Prediction:\n",
      "ти <PAD> <PAD> <PAD> <PAD> <PAD> <PAD> <PAD> <PAD> <PAD> <PAD> <PAD> <PAD> <PAD> <PAD> <PAD> <PAD> <PAD> <PAD> <PAD> <PAD> <PAD> <PAD> <PAD> <PAD> <PAD> <PAD> <PAD> <PAD> <PAD> <PAD> <PAD> <PAD> <PAD> <PAD> <PAD> <PAD> <PAD> <PAD> <PAD> <PAD>\n",
      "\n",
      "Correct Translation:\n",
      "Ви божевільні.\n"
     ]
    }
   ],
   "source": [
    "import random\n",
    "\n",
    "random_index = random.sample(range(0, 158705), 15)\n",
    "\n",
    "pred=model.predict(eng_seq[random_index])\n",
    "\n",
    "for i in range(15):\n",
    "\n",
    "  print(\"\\nOriginal text:\")\n",
    "  print(eng_sentences[random_index[i]])\n",
    "\n",
    "  print(\"\\nPrediction:\")\n",
    "  print(logits_to_text(pred[i], Ua_tokenizer))\n",
    "\n",
    "\n",
    "  print(\"\\nCorrect Translation:\")\n",
    "  print(ua_sentences[random_index[i]])\n"
   ]
  }
 ],
 "metadata": {
  "accelerator": "GPU",
  "colab": {
   "gpuType": "T4",
   "provenance": []
  },
  "kernelspec": {
   "display_name": "Python 3 (ipykernel)",
   "language": "python",
   "name": "python3"
  },
  "language_info": {
   "codemirror_mode": {
    "name": "ipython",
    "version": 3
   },
   "file_extension": ".py",
   "mimetype": "text/x-python",
   "name": "python",
   "nbconvert_exporter": "python",
   "pygments_lexer": "ipython3",
   "version": "3.9.13"
  }
 },
 "nbformat": 4,
 "nbformat_minor": 5
}
